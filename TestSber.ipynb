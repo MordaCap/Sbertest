{
 "cells": [
  {
   "cell_type": "markdown",
   "metadata": {},
   "source": [
    "# 1 Python block"
   ]
  },
  {
   "cell_type": "markdown",
   "metadata": {},
   "source": [
    "## 1.1 Отличие range и xrange python 2.7\n",
    "\n",
    "В python 2.7 range создает список, а xrange генератор (объект xrange), что не помещает в память всю последовательность, экономя память. \n",
    "В python 3 функция xrange удалена, а range работает как xrange. \n",
    "\n",
    "## 1.2 Реализация генератора чисел Фибоначи"
   ]
  },
  {
   "cell_type": "code",
   "execution_count": 8,
   "metadata": {},
   "outputs": [
    {
     "name": "stdout",
     "output_type": "stream",
     "text": [
      "1\n",
      "1\n",
      "2\n",
      "3\n",
      "5\n",
      "8\n",
      "13\n",
      "21\n",
      "34\n",
      "55\n"
     ]
    }
   ],
   "source": [
    "def fibonacci_gen(n):\n",
    "    fib1, fib2 = 0, 1\n",
    "    for i in range(n):\n",
    "        fib1, fib2 = fib2, fib1 + fib2\n",
    "        yield fib1\n",
    "        \n",
    "n = 10\n",
    "for num in fibonacci_gen(n):\n",
    "    print(num)"
   ]
  },
  {
   "cell_type": "markdown",
   "metadata": {},
   "source": [
    "# 2 SQL\n",
    "\n",
    "## 2.1. Написать SQL запрос, выводящий отдел с наибольшим числом сотрудников.\n",
    "\n",
    "select Department.name, count(Personal.id) as Count from Department, Personal\n",
    "    where Department.id = Personal.id_dep\n",
    "    group by Personal.id_dep \n",
    "    order by Count desc limit 1;\n",
    "\n",
    "## 2.2. Написать SQL запрос, выводящий список сотрудников, получающих заработную плату выше, чем у непосредственного руководителя.\n",
    "\n",
    "select p1.name from per as p1, (select id, sal from per\n",
    "where id in (select distinct id_head from per)) as p2\n",
    "where p1.sal > p2.sal and p1.id_head = p2.id;"
   ]
  },
  {
   "cell_type": "code",
   "execution_count": null,
   "metadata": {},
   "outputs": [],
   "source": []
  }
 ],
 "metadata": {
  "kernelspec": {
   "display_name": "Python 3",
   "language": "python",
   "name": "python3"
  },
  "language_info": {
   "codemirror_mode": {
    "name": "ipython",
    "version": 3
   },
   "file_extension": ".py",
   "mimetype": "text/x-python",
   "name": "python",
   "nbconvert_exporter": "python",
   "pygments_lexer": "ipython3",
   "version": "3.6.6"
  }
 },
 "nbformat": 4,
 "nbformat_minor": 2
}
